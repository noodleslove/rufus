{
 "cells": [
  {
   "cell_type": "code",
   "execution_count": 1,
   "metadata": {},
   "outputs": [],
   "source": [
    "%load_ext autoreload\n",
    "%autoreload 2\n",
    "\n",
    "import os\n",
    "from client import RufusClient\n",
    "from dotenv import load_dotenv"
   ]
  },
  {
   "cell_type": "code",
   "execution_count": 2,
   "metadata": {},
   "outputs": [],
   "source": [
    "load_dotenv()\n",
    "client = RufusClient(api_key=os.getenv('OPENAI_API_KEY'))"
   ]
  },
  {
   "cell_type": "code",
   "execution_count": 3,
   "metadata": {},
   "outputs": [
    {
     "name": "stderr",
     "output_type": "stream",
     "text": [
      "2024-11-15 20:14:19,799 - INFO - Starting scrape of https://www.sf.gov\n",
      "2024-11-15 20:14:19,800 - INFO - Processing https://www.sf.gov\n",
      "2024-11-15 20:14:21,667 - INFO - HTTP Request: POST https://api.openai.com/v1/chat/completions \"HTTP/1.1 200 OK\"\n",
      "2024-11-15 20:14:23,351 - INFO - Processing https://www.sf.gov#main-content\n",
      "2024-11-15 20:14:24,840 - INFO - HTTP Request: POST https://api.openai.com/v1/chat/completions \"HTTP/1.1 200 OK\"\n",
      "2024-11-15 20:14:24,843 - ERROR - Error parsing LLM response: Expecting value: line 1 column 1 (char 0)\n",
      "2024-11-15 20:14:26,521 - INFO - Processing https://www.sf.gov/\n",
      "2024-11-15 20:14:28,117 - INFO - HTTP Request: POST https://api.openai.com/v1/chat/completions \"HTTP/1.1 200 OK\"\n",
      "2024-11-15 20:14:29,872 - INFO - Processing https://www.sf.gov/services\n",
      "2024-11-15 20:14:31,190 - INFO - HTTP Request: POST https://api.openai.com/v1/chat/completions \"HTTP/1.1 200 OK\"\n",
      "2024-11-15 20:14:32,445 - INFO - Processing https://www.sf.gov/departments\n",
      "2024-11-15 20:14:33,964 - INFO - HTTP Request: POST https://api.openai.com/v1/chat/completions \"HTTP/1.1 200 OK\"\n",
      "2024-11-15 20:14:35,238 - INFO - Processing https://www.sf.gov/topics/activities\n",
      "2024-11-15 20:14:36,395 - INFO - HTTP Request: POST https://api.openai.com/v1/chat/completions \"HTTP/1.1 200 OK\"\n",
      "2024-11-15 20:14:37,694 - INFO - Processing https://www.sf.gov/topics/building\n",
      "2024-11-15 20:14:38,719 - INFO - HTTP Request: POST https://api.openai.com/v1/chat/completions \"HTTP/1.1 200 OK\"\n",
      "2024-11-15 20:14:40,032 - INFO - Processing https://www.sf.gov/topics/business\n",
      "2024-11-15 20:14:41,159 - INFO - HTTP Request: POST https://api.openai.com/v1/chat/completions \"HTTP/1.1 200 OK\"\n",
      "2024-11-15 20:14:41,161 - ERROR - Error parsing LLM response: Expecting value: line 1 column 1 (char 0)\n",
      "2024-11-15 20:14:42,487 - INFO - Processing https://www.sf.gov/topics/disability\n",
      "2024-11-15 20:14:43,683 - INFO - HTTP Request: POST https://api.openai.com/v1/chat/completions \"HTTP/1.1 200 OK\"\n",
      "2024-11-15 20:14:43,689 - ERROR - Error parsing LLM response: Expecting value: line 1 column 1 (char 0)\n",
      "2024-11-15 20:14:44,986 - INFO - Processing https://www.sf.gov/topics/food\n",
      "2024-11-15 20:14:46,960 - INFO - HTTP Request: POST https://api.openai.com/v1/chat/completions \"HTTP/1.1 200 OK\"\n",
      "2024-11-15 20:14:46,964 - ERROR - Error parsing LLM response: Expecting value: line 1 column 1 (char 0)\n"
     ]
    },
    {
     "name": "stdout",
     "output_type": "stream",
     "text": [
      "[{'url': 'https://www.sf.gov/services', 'data': {'location': 'San Francisco', 'focus_area': 'HR chatbot', 'related_services': ['Jobs', 'Government', 'Business']}, 'relevance_score': 0.8}, {'url': 'https://www.sf.gov/departments', 'data': {'project': 'chatbot', 'department': 'Human Resources', 'location': 'San Francisco'}, 'relevance_score': 0.8}]\n"
     ]
    }
   ],
   "source": [
    "instructions = \"We're making a chatbot for the HR in San Francisco.\"\n",
    "documents = client.scrape(\"https://www.sf.gov\", instructions)\n",
    "\n",
    "print(documents)"
   ]
  },
  {
   "cell_type": "code",
   "execution_count": 5,
   "metadata": {},
   "outputs": [],
   "source": [
    "with open(\"page.html\", \"w\") as f:\n",
    "    f.write(client.get_page_content(\"https://www.sf.gov\"))"
   ]
  }
 ],
 "metadata": {
  "kernelspec": {
   "display_name": "ruf",
   "language": "python",
   "name": "python3"
  },
  "language_info": {
   "codemirror_mode": {
    "name": "ipython",
    "version": 3
   },
   "file_extension": ".py",
   "mimetype": "text/x-python",
   "name": "python",
   "nbconvert_exporter": "python",
   "pygments_lexer": "ipython3",
   "version": "3.12.2"
  }
 },
 "nbformat": 4,
 "nbformat_minor": 2
}
